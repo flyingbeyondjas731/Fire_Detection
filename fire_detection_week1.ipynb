{
 "cells": [
  {
   "cell_type": "markdown",
   "id": "8bee56da-10fb-40d4-bdee-4a2f71ae042f",
   "metadata": {},
   "source": [
    "# Fire Detection-Week 1\n",
    "## Step 1: Importing Libraries\n",
    "This is the first step in the fire detection project. Below, we import the necessary Python Libraries."
   ]
  },
  {
   "cell_type": "markdown",
   "id": "0c368b2e-8df1-4de9-bec5-ae29bed54a84",
   "metadata": {},
   "source": [
    "The libraries used include NumPY, Pandas, Scikit-learn,XGBoost, and visualization tools."
   ]
  },
  {
   "cell_type": "code",
   "execution_count": 2,
   "id": "7d1bf650-a57b-4978-86c9-93d10467ea6d",
   "metadata": {},
   "outputs": [],
   "source": [
    "import numpy as np\n",
    "import pandas as pd\n",
    "import matplotlib.pyplot as plt\n",
    "import seaborn as sns\n",
    "from sklearn.model_selection import train_test_split\n",
    "from sklearn.linear_model import LogisticRegression\n",
    "from sklearn.feature_selection import SelectKBest, f_classif, mutual_info_classif\n",
    "from sklearn.ensemble import RandomForestClassifier\n",
    "from sklearn.feature_selection import SelectKBest, f_classif, mutual_info_classif\n",
    "from sklearn.ensemble import RandomForestClassifier\n",
    "from sklearn.preprocessing import StandardScaler\n",
    "from sklearn.metrics import  accuracy_score,classification_report,ConfusionMatrixDisplay\n",
    "from sklearn.neighbors import KNeighborsClassifier\n",
    "from xgboost import XGBClassifier\n",
    "from sklearn.preprocessing import LabelEncoder, OneHotEncoder"
   ]
  },
  {
   "cell_type": "markdown",
   "id": "412498dd-8df3-4c65-9c2a-83b061aa4802",
   "metadata": {},
   "source": [
    "## Step 2: Loading and Combining the Dataset\n",
    "We are loading fire data from MODIS for the years 2021, 2022, and 2023. Each CSV file is loaded into a separate data frame, and then all are concatenated into one combined data frame."
   ]
  },
  {
   "cell_type": "code",
   "execution_count": 10,
   "id": "aed9517a-99e9-475c-ab02-7b1c01a29909",
   "metadata": {},
   "outputs": [
    {
     "name": "stdout",
     "output_type": "stream",
     "text": [
      "<class 'pandas.core.frame.DataFrame'>\n",
      "RangeIndex: 300959 entries, 0 to 300958\n",
      "Data columns (total 15 columns):\n",
      " #   Column      Non-Null Count   Dtype  \n",
      "---  ------      --------------   -----  \n",
      " 0   latitude    300959 non-null  float64\n",
      " 1   longitude   300959 non-null  float64\n",
      " 2   brightness  300959 non-null  float64\n",
      " 3   scan        300959 non-null  float64\n",
      " 4   track       300959 non-null  float64\n",
      " 5   acq_date    300959 non-null  object \n",
      " 6   acq_time    300959 non-null  int64  \n",
      " 7   satellite   300959 non-null  object \n",
      " 8   instrument  300959 non-null  object \n",
      " 9   confidence  300959 non-null  int64  \n",
      " 10  version     300959 non-null  float64\n",
      " 11  bright_t31  300959 non-null  float64\n",
      " 12  frp         300959 non-null  float64\n",
      " 13  daynight    300959 non-null  object \n",
      " 14  type        300959 non-null  int64  \n",
      "dtypes: float64(8), int64(3), object(4)\n",
      "memory usage: 34.4+ MB\n"
     ]
    }
   ],
   "source": [
    "# Load the datasets\n",
    "df1 = pd.read_csv('modis_2021_India.csv')\n",
    "df2 = pd.read_csv('modis_2022_India.csv')\n",
    "df3 = pd.read_csv('modis_2023_India.csv')\n",
    "\n",
    "#Preview each dataset\n",
    "df1.head() # print first 5 rows - df1.tail()\n",
    "df2.head()\n",
    "df3.head()\n",
    "\n",
    "#Combine all datasets\n",
    "df = pd.concat([df1, df2, df3], ignore_index=True)\n",
    "\n",
    "#Preview combined dataset\n",
    "df.head()\n",
    "\n",
    "#Check dataset shape and info\n",
    "df.shape #rows nd columns\n",
    "df.info() # dt,memc\n"
   ]
  },
  {
   "cell_type": "markdown",
   "id": "4c1de780-8c05-4660-8b6b-0261f93aa7ca",
   "metadata": {},
   "source": [
    "> Debug cell (optional): Used to list files in the working directory."
   ]
  },
  {
   "cell_type": "code",
   "execution_count": 7,
   "id": "88f7acf7-3447-4100-b723-4572779aef11",
   "metadata": {},
   "outputs": [
    {
     "data": {
      "text/plain": [
       "'C:\\\\Users\\\\JASMIN'"
      ]
     },
     "execution_count": 7,
     "metadata": {},
     "output_type": "execute_result"
    }
   ],
   "source": [
    "import os\n",
    "os.getcwd()"
   ]
  },
  {
   "cell_type": "code",
   "execution_count": 11,
   "id": "e3a3aadd-236e-4f4a-a25b-d02b0d557dd2",
   "metadata": {},
   "outputs": [
    {
     "data": {
      "text/plain": [
       "latitude      0\n",
       "longitude     0\n",
       "brightness    0\n",
       "scan          0\n",
       "track         0\n",
       "acq_date      0\n",
       "acq_time      0\n",
       "satellite     0\n",
       "instrument    0\n",
       "confidence    0\n",
       "version       0\n",
       "bright_t31    0\n",
       "frp           0\n",
       "daynight      0\n",
       "type          0\n",
       "dtype: int64"
      ]
     },
     "execution_count": 11,
     "metadata": {},
     "output_type": "execute_result"
    }
   ],
   "source": [
    "# Any missing values?\n",
    "df.isnull().sum()"
   ]
  },
  {
   "cell_type": "markdown",
   "id": "e2314b81-409f-4621-8c1e-aa3d03c21b31",
   "metadata": {},
   "source": [
    "## Step 3: Initial Dataset Checks\n",
    "Checking for duplicates and inspecting dataset columns to understand the structure."
   ]
  },
  {
   "cell_type": "code",
   "execution_count": 12,
   "id": "318466dc-f7bd-411b-a536-f898b44b478b",
   "metadata": {},
   "outputs": [
    {
     "data": {
      "text/plain": [
       "np.int64(111267)"
      ]
     },
     "execution_count": 12,
     "metadata": {},
     "output_type": "execute_result"
    }
   ],
   "source": [
    "df.duplicated().sum()\n"
   ]
  },
  {
   "cell_type": "code",
   "execution_count": 13,
   "id": "43f2d921-9610-4bdd-b51c-f4e8c23701e4",
   "metadata": {},
   "outputs": [],
   "source": [
    "df=df.drop_duplicates()"
   ]
  },
  {
   "cell_type": "code",
   "execution_count": 14,
   "id": "19e7227b-76dc-4fa6-a73e-7d8876383b67",
   "metadata": {},
   "outputs": [
    {
     "data": {
      "text/plain": [
       "np.int64(0)"
      ]
     },
     "execution_count": 14,
     "metadata": {},
     "output_type": "execute_result"
    }
   ],
   "source": [
    "df.duplicated().sum()\n"
   ]
  },
  {
   "cell_type": "markdown",
   "id": "22007bf1-e6d3-47f5-a0be-f93e2ae83c0b",
   "metadata": {},
   "source": [
    "# Step 4: List out all the column names to check."
   ]
  },
  {
   "cell_type": "code",
   "execution_count": 17,
   "id": "443ad9ef-6746-4df7-ac6d-4cb15cedcd0d",
   "metadata": {},
   "outputs": [
    {
     "data": {
      "text/plain": [
       "Index(['latitude', 'longitude', 'brightness', 'scan', 'track', 'acq_date',\n",
       "       'acq_time', 'satellite', 'instrument', 'confidence', 'version',\n",
       "       'bright_t31', 'frp', 'daynight', 'type'],\n",
       "      dtype='object')"
      ]
     },
     "execution_count": 17,
     "metadata": {},
     "output_type": "execute_result"
    }
   ],
   "source": [
    "df.columns\n"
   ]
  },
  {
   "cell_type": "markdown",
   "id": "79965b63-a7d7-455a-a2cc-2cfdac332787",
   "metadata": {},
   "source": [
    "## Step 5: Summary Statistics\n",
    "Using .describe() to understand the distribution of numerical features."
   ]
  },
  {
   "cell_type": "code",
   "execution_count": 15,
   "id": "0b348e62-f65c-4827-aa60-c199433e2552",
   "metadata": {},
   "outputs": [
    {
     "data": {
      "text/html": [
       "<div>\n",
       "<style scoped>\n",
       "    .dataframe tbody tr th:only-of-type {\n",
       "        vertical-align: middle;\n",
       "    }\n",
       "\n",
       "    .dataframe tbody tr th {\n",
       "        vertical-align: top;\n",
       "    }\n",
       "\n",
       "    .dataframe thead th {\n",
       "        text-align: right;\n",
       "    }\n",
       "</style>\n",
       "<table border=\"1\" class=\"dataframe\">\n",
       "  <thead>\n",
       "    <tr style=\"text-align: right;\">\n",
       "      <th></th>\n",
       "      <th>count</th>\n",
       "      <th>mean</th>\n",
       "      <th>std</th>\n",
       "      <th>min</th>\n",
       "      <th>25%</th>\n",
       "      <th>50%</th>\n",
       "      <th>75%</th>\n",
       "      <th>max</th>\n",
       "    </tr>\n",
       "  </thead>\n",
       "  <tbody>\n",
       "    <tr>\n",
       "      <th>latitude</th>\n",
       "      <td>189692.0</td>\n",
       "      <td>23.814983</td>\n",
       "      <td>4.899227</td>\n",
       "      <td>8.1362</td>\n",
       "      <td>20.960900</td>\n",
       "      <td>23.73640</td>\n",
       "      <td>27.411625</td>\n",
       "      <td>34.5620</td>\n",
       "    </tr>\n",
       "    <tr>\n",
       "      <th>longitude</th>\n",
       "      <td>189692.0</td>\n",
       "      <td>81.436394</td>\n",
       "      <td>6.576674</td>\n",
       "      <td>68.5295</td>\n",
       "      <td>75.969175</td>\n",
       "      <td>79.51075</td>\n",
       "      <td>85.111150</td>\n",
       "      <td>97.1044</td>\n",
       "    </tr>\n",
       "    <tr>\n",
       "      <th>brightness</th>\n",
       "      <td>189692.0</td>\n",
       "      <td>323.702708</td>\n",
       "      <td>14.083953</td>\n",
       "      <td>300.0000</td>\n",
       "      <td>314.700000</td>\n",
       "      <td>322.10000</td>\n",
       "      <td>330.400000</td>\n",
       "      <td>505.7000</td>\n",
       "    </tr>\n",
       "    <tr>\n",
       "      <th>scan</th>\n",
       "      <td>189692.0</td>\n",
       "      <td>1.421846</td>\n",
       "      <td>0.629685</td>\n",
       "      <td>1.0000</td>\n",
       "      <td>1.000000</td>\n",
       "      <td>1.20000</td>\n",
       "      <td>1.500000</td>\n",
       "      <td>4.8000</td>\n",
       "    </tr>\n",
       "    <tr>\n",
       "      <th>track</th>\n",
       "      <td>189692.0</td>\n",
       "      <td>1.152942</td>\n",
       "      <td>0.201304</td>\n",
       "      <td>1.0000</td>\n",
       "      <td>1.000000</td>\n",
       "      <td>1.10000</td>\n",
       "      <td>1.200000</td>\n",
       "      <td>2.0000</td>\n",
       "    </tr>\n",
       "    <tr>\n",
       "      <th>acq_time</th>\n",
       "      <td>189692.0</td>\n",
       "      <td>819.539116</td>\n",
       "      <td>347.938913</td>\n",
       "      <td>321.0000</td>\n",
       "      <td>650.000000</td>\n",
       "      <td>756.00000</td>\n",
       "      <td>825.000000</td>\n",
       "      <td>2202.0000</td>\n",
       "    </tr>\n",
       "    <tr>\n",
       "      <th>confidence</th>\n",
       "      <td>189692.0</td>\n",
       "      <td>63.890101</td>\n",
       "      <td>18.184031</td>\n",
       "      <td>0.0000</td>\n",
       "      <td>54.000000</td>\n",
       "      <td>65.00000</td>\n",
       "      <td>76.000000</td>\n",
       "      <td>100.0000</td>\n",
       "    </tr>\n",
       "    <tr>\n",
       "      <th>version</th>\n",
       "      <td>189692.0</td>\n",
       "      <td>28.768835</td>\n",
       "      <td>27.084777</td>\n",
       "      <td>6.0300</td>\n",
       "      <td>6.030000</td>\n",
       "      <td>6.03000</td>\n",
       "      <td>61.030000</td>\n",
       "      <td>61.0300</td>\n",
       "    </tr>\n",
       "    <tr>\n",
       "      <th>bright_t31</th>\n",
       "      <td>189692.0</td>\n",
       "      <td>303.500227</td>\n",
       "      <td>8.179678</td>\n",
       "      <td>267.2000</td>\n",
       "      <td>298.300000</td>\n",
       "      <td>302.60000</td>\n",
       "      <td>309.100000</td>\n",
       "      <td>400.1000</td>\n",
       "    </tr>\n",
       "    <tr>\n",
       "      <th>frp</th>\n",
       "      <td>189692.0</td>\n",
       "      <td>27.370187</td>\n",
       "      <td>78.369407</td>\n",
       "      <td>0.0000</td>\n",
       "      <td>8.800000</td>\n",
       "      <td>13.60000</td>\n",
       "      <td>24.600000</td>\n",
       "      <td>6961.8000</td>\n",
       "    </tr>\n",
       "    <tr>\n",
       "      <th>type</th>\n",
       "      <td>189692.0</td>\n",
       "      <td>0.096493</td>\n",
       "      <td>0.429054</td>\n",
       "      <td>0.0000</td>\n",
       "      <td>0.000000</td>\n",
       "      <td>0.00000</td>\n",
       "      <td>0.000000</td>\n",
       "      <td>3.0000</td>\n",
       "    </tr>\n",
       "  </tbody>\n",
       "</table>\n",
       "</div>"
      ],
      "text/plain": [
       "               count        mean         std       min         25%        50%  \\\n",
       "latitude    189692.0   23.814983    4.899227    8.1362   20.960900   23.73640   \n",
       "longitude   189692.0   81.436394    6.576674   68.5295   75.969175   79.51075   \n",
       "brightness  189692.0  323.702708   14.083953  300.0000  314.700000  322.10000   \n",
       "scan        189692.0    1.421846    0.629685    1.0000    1.000000    1.20000   \n",
       "track       189692.0    1.152942    0.201304    1.0000    1.000000    1.10000   \n",
       "acq_time    189692.0  819.539116  347.938913  321.0000  650.000000  756.00000   \n",
       "confidence  189692.0   63.890101   18.184031    0.0000   54.000000   65.00000   \n",
       "version     189692.0   28.768835   27.084777    6.0300    6.030000    6.03000   \n",
       "bright_t31  189692.0  303.500227    8.179678  267.2000  298.300000  302.60000   \n",
       "frp         189692.0   27.370187   78.369407    0.0000    8.800000   13.60000   \n",
       "type        189692.0    0.096493    0.429054    0.0000    0.000000    0.00000   \n",
       "\n",
       "                   75%        max  \n",
       "latitude     27.411625    34.5620  \n",
       "longitude    85.111150    97.1044  \n",
       "brightness  330.400000   505.7000  \n",
       "scan          1.500000     4.8000  \n",
       "track         1.200000     2.0000  \n",
       "acq_time    825.000000  2202.0000  \n",
       "confidence   76.000000   100.0000  \n",
       "version      61.030000    61.0300  \n",
       "bright_t31  309.100000   400.1000  \n",
       "frp          24.600000  6961.8000  \n",
       "type          0.000000     3.0000  "
      ]
     },
     "execution_count": 15,
     "metadata": {},
     "output_type": "execute_result"
    }
   ],
   "source": [
    "df.describe().T # statistics of dataset - numbers!"
   ]
  },
  {
   "cell_type": "markdown",
   "id": "b48ba22e-39c2-4f17-8fe5-5d6fecce613a",
   "metadata": {},
   "source": [
    "## Step 6: Target Variable Distribution\n",
    "Checking the value counts for the target variable type to understand class imbalance."
   ]
  },
  {
   "cell_type": "code",
   "execution_count": 18,
   "id": "df636b55-9cd8-4ab6-ba19-317a65e6b4ec",
   "metadata": {},
   "outputs": [
    {
     "data": {
      "text/plain": [
       "type\n",
       "0    180553\n",
       "2      9113\n",
       "3        26\n",
       "Name: count, dtype: int64"
      ]
     },
     "execution_count": 18,
     "metadata": {},
     "output_type": "execute_result"
    }
   ],
   "source": [
    "# Check Unique values of target variable\n",
    "df.type.value_counts()"
   ]
  },
  {
   "cell_type": "markdown",
   "id": "c868eff0-db8a-4aeb-a674-0b71b7284ad3",
   "metadata": {},
   "source": [
    "## Step 7: Exploratory Data Analysis (EDA)\n",
    "Looking at the unique values in each categorical column to better understand the data."
   ]
  },
  {
   "cell_type": "code",
   "execution_count": 19,
   "id": "a714dd56-5fa4-42a7-815a-0c804c9aed2f",
   "metadata": {},
   "outputs": [
    {
     "name": "stdout",
     "output_type": "stream",
     "text": [
      "Column: acq_date\n",
      "Unique values: ['01-01-2021' '02-01-2021' '03-01-2021' '04-01-2021' '05-01-2021'\n",
      " '06-01-2021' '07-01-2021' '08-01-2021' '09-01-2021' '10-01-2021'\n",
      " '11-01-2021' '12-01-2021' '13-01-2021' '14-01-2021' '15-01-2021'\n",
      " '16-01-2021' '17-01-2021' '18-01-2021' '19-01-2021' '20-01-2021'\n",
      " '21-01-2021' '22-01-2021' '23-01-2021' '24-01-2021' '25-01-2021'\n",
      " '26-01-2021' '27-01-2021' '28-01-2021' '29-01-2021' '30-01-2021'\n",
      " '31-01-2021' '01-02-2021' '02-02-2021' '03-02-2021' '04-02-2021'\n",
      " '05-02-2021' '06-02-2021' '07-02-2021' '08-02-2021' '09-02-2021'\n",
      " '10-02-2021' '11-02-2021' '12-02-2021' '13-02-2021' '14-02-2021'\n",
      " '15-02-2021' '16-02-2021' '17-02-2021' '18-02-2021' '19-02-2021'\n",
      " '20-02-2021' '21-02-2021' '22-02-2021' '23-02-2021' '24-02-2021'\n",
      " '25-02-2021' '26-02-2021' '27-02-2021' '28-02-2021' '01-03-2021'\n",
      " '02-03-2021' '03-03-2021' '04-03-2021' '05-03-2021' '06-03-2021'\n",
      " '07-03-2021' '08-03-2021' '09-03-2021' '10-03-2021' '11-03-2021'\n",
      " '12-03-2021' '13-03-2021' '14-03-2021' '15-03-2021' '16-03-2021'\n",
      " '17-03-2021' '18-03-2021' '19-03-2021' '20-03-2021' '21-03-2021'\n",
      " '22-03-2021' '23-03-2021' '24-03-2021' '25-03-2021' '26-03-2021'\n",
      " '27-03-2021' '28-03-2021' '29-03-2021' '30-03-2021' '31-03-2021'\n",
      " '01-04-2021' '02-04-2021' '03-04-2021' '04-04-2021' '05-04-2021'\n",
      " '06-04-2021' '07-04-2021' '08-04-2021' '09-04-2021' '10-04-2021'\n",
      " '11-04-2021' '12-04-2021' '13-04-2021' '14-04-2021' '15-04-2021'\n",
      " '16-04-2021' '17-04-2021' '18-04-2021' '19-04-2021' '20-04-2021'\n",
      " '21-04-2021' '22-04-2021' '23-04-2021' '24-04-2021' '25-04-2021'\n",
      " '26-04-2021' '27-04-2021' '28-04-2021' '29-04-2021' '30-04-2021'\n",
      " '01-05-2021' '02-05-2021' '03-05-2021' '04-05-2021' '05-05-2021'\n",
      " '06-05-2021' '07-05-2021' '08-05-2021' '09-05-2021' '10-05-2021'\n",
      " '11-05-2021' '12-05-2021' '13-05-2021' '14-05-2021' '15-05-2021'\n",
      " '16-05-2021' '17-05-2021' '18-05-2021' '19-05-2021' '20-05-2021'\n",
      " '21-05-2021' '22-05-2021' '23-05-2021' '24-05-2021' '25-05-2021'\n",
      " '26-05-2021' '27-05-2021' '28-05-2021' '29-05-2021' '30-05-2021'\n",
      " '31-05-2021' '01-06-2021' '02-06-2021' '03-06-2021' '04-06-2021'\n",
      " '05-06-2021' '06-06-2021' '07-06-2021' '08-06-2021' '09-06-2021'\n",
      " '10-06-2021' '11-06-2021' '12-06-2021' '13-06-2021' '14-06-2021'\n",
      " '15-06-2021' '16-06-2021' '17-06-2021' '18-06-2021' '19-06-2021'\n",
      " '20-06-2021' '21-06-2021' '22-06-2021' '23-06-2021' '24-06-2021'\n",
      " '25-06-2021' '26-06-2021' '27-06-2021' '28-06-2021' '29-06-2021'\n",
      " '30-06-2021' '01-07-2021' '02-07-2021' '03-07-2021' '04-07-2021'\n",
      " '05-07-2021' '06-07-2021' '07-07-2021' '08-07-2021' '09-07-2021'\n",
      " '10-07-2021' '11-07-2021' '12-07-2021' '13-07-2021' '14-07-2021'\n",
      " '15-07-2021' '16-07-2021' '17-07-2021' '18-07-2021' '19-07-2021'\n",
      " '20-07-2021' '21-07-2021' '22-07-2021' '23-07-2021' '24-07-2021'\n",
      " '25-07-2021' '26-07-2021' '27-07-2021' '28-07-2021' '29-07-2021'\n",
      " '31-07-2021' '01-08-2021' '02-08-2021' '03-08-2021' '04-08-2021'\n",
      " '05-08-2021' '06-08-2021' '07-08-2021' '08-08-2021' '09-08-2021'\n",
      " '10-08-2021' '11-08-2021' '12-08-2021' '13-08-2021' '14-08-2021'\n",
      " '15-08-2021' '16-08-2021' '17-08-2021' '18-08-2021' '19-08-2021'\n",
      " '20-08-2021' '21-08-2021' '22-08-2021' '23-08-2021' '24-08-2021'\n",
      " '25-08-2021' '26-08-2021' '27-08-2021' '28-08-2021' '29-08-2021'\n",
      " '30-08-2021' '31-08-2021' '01-09-2021' '02-09-2021' '03-09-2021'\n",
      " '04-09-2021' '05-09-2021' '06-09-2021' '07-09-2021' '08-09-2021'\n",
      " '09-09-2021' '10-09-2021' '11-09-2021' '12-09-2021' '13-09-2021'\n",
      " '14-09-2021' '15-09-2021' '16-09-2021' '17-09-2021' '18-09-2021'\n",
      " '19-09-2021' '20-09-2021' '21-09-2021' '22-09-2021' '23-09-2021'\n",
      " '24-09-2021' '25-09-2021' '26-09-2021' '27-09-2021' '28-09-2021'\n",
      " '29-09-2021' '30-09-2021' '01-10-2021' '02-10-2021' '03-10-2021'\n",
      " '04-10-2021' '05-10-2021' '06-10-2021' '07-10-2021' '08-10-2021'\n",
      " '09-10-2021' '10-10-2021' '11-10-2021' '12-10-2021' '13-10-2021'\n",
      " '14-10-2021' '15-10-2021' '16-10-2021' '17-10-2021' '18-10-2021'\n",
      " '19-10-2021' '20-10-2021' '21-10-2021' '22-10-2021' '23-10-2021'\n",
      " '24-10-2021' '25-10-2021' '26-10-2021' '27-10-2021' '28-10-2021'\n",
      " '29-10-2021' '30-10-2021' '31-10-2021' '01-11-2021' '02-11-2021'\n",
      " '03-11-2021' '04-11-2021' '05-11-2021' '06-11-2021' '07-11-2021'\n",
      " '08-11-2021' '09-11-2021' '10-11-2021' '11-11-2021' '12-11-2021'\n",
      " '13-11-2021' '14-11-2021' '15-11-2021' '16-11-2021' '17-11-2021'\n",
      " '18-11-2021' '19-11-2021' '20-11-2021' '21-11-2021' '22-11-2021'\n",
      " '23-11-2021' '24-11-2021' '25-11-2021' '26-11-2021' '27-11-2021'\n",
      " '28-11-2021' '29-11-2021' '30-11-2021' '01-12-2021' '02-12-2021'\n",
      " '03-12-2021' '04-12-2021' '05-12-2021' '06-12-2021' '07-12-2021'\n",
      " '08-12-2021' '09-12-2021' '10-12-2021' '11-12-2021' '12-12-2021'\n",
      " '13-12-2021' '14-12-2021' '15-12-2021' '16-12-2021' '17-12-2021'\n",
      " '18-12-2021' '19-12-2021' '20-12-2021' '21-12-2021' '22-12-2021'\n",
      " '23-12-2021' '24-12-2021' '25-12-2021' '26-12-2021' '27-12-2021'\n",
      " '28-12-2021' '29-12-2021' '30-12-2021' '31-12-2021' '01-01-2023'\n",
      " '02-01-2023' '03-01-2023' '04-01-2023' '05-01-2023' '06-01-2023'\n",
      " '07-01-2023' '08-01-2023' '09-01-2023' '10-01-2023' '11-01-2023'\n",
      " '12-01-2023' '13-01-2023' '14-01-2023' '15-01-2023' '16-01-2023'\n",
      " '17-01-2023' '18-01-2023' '19-01-2023' '20-01-2023' '21-01-2023'\n",
      " '22-01-2023' '23-01-2023' '24-01-2023' '25-01-2023' '26-01-2023'\n",
      " '27-01-2023' '28-01-2023' '29-01-2023' '30-01-2023' '31-01-2023'\n",
      " '01-02-2023' '02-02-2023' '03-02-2023' '04-02-2023' '05-02-2023'\n",
      " '06-02-2023' '07-02-2023' '08-02-2023' '09-02-2023' '10-02-2023'\n",
      " '11-02-2023' '12-02-2023' '13-02-2023' '14-02-2023' '15-02-2023'\n",
      " '16-02-2023' '17-02-2023' '18-02-2023' '19-02-2023' '20-02-2023'\n",
      " '21-02-2023' '22-02-2023' '23-02-2023' '24-02-2023' '25-02-2023'\n",
      " '26-02-2023' '27-02-2023' '28-02-2023' '01-03-2023' '02-03-2023'\n",
      " '03-03-2023' '04-03-2023' '05-03-2023' '06-03-2023' '07-03-2023'\n",
      " '08-03-2023' '09-03-2023' '10-03-2023' '11-03-2023' '12-03-2023'\n",
      " '13-03-2023' '14-03-2023' '15-03-2023' '16-03-2023' '17-03-2023'\n",
      " '18-03-2023' '19-03-2023' '20-03-2023' '21-03-2023' '22-03-2023'\n",
      " '23-03-2023' '24-03-2023' '25-03-2023' '26-03-2023' '27-03-2023'\n",
      " '28-03-2023' '29-03-2023' '30-03-2023' '31-03-2023' '01-04-2023'\n",
      " '02-04-2023' '03-04-2023' '04-04-2023' '05-04-2023' '06-04-2023'\n",
      " '07-04-2023' '08-04-2023' '09-04-2023' '10-04-2023' '11-04-2023'\n",
      " '12-04-2023' '13-04-2023' '14-04-2023' '15-04-2023' '16-04-2023'\n",
      " '17-04-2023' '18-04-2023' '19-04-2023' '20-04-2023' '21-04-2023'\n",
      " '22-04-2023' '23-04-2023' '24-04-2023' '25-04-2023' '26-04-2023'\n",
      " '27-04-2023' '28-04-2023' '29-04-2023' '30-04-2023' '01-05-2023'\n",
      " '02-05-2023' '03-05-2023' '04-05-2023' '05-05-2023' '06-05-2023'\n",
      " '07-05-2023' '08-05-2023' '09-05-2023' '10-05-2023' '11-05-2023'\n",
      " '12-05-2023' '13-05-2023' '14-05-2023' '15-05-2023' '16-05-2023'\n",
      " '17-05-2023' '18-05-2023' '19-05-2023' '20-05-2023' '21-05-2023'\n",
      " '22-05-2023' '23-05-2023' '24-05-2023' '25-05-2023' '26-05-2023'\n",
      " '27-05-2023' '28-05-2023' '29-05-2023' '30-05-2023' '31-05-2023'\n",
      " '01-06-2023' '02-06-2023' '03-06-2023' '04-06-2023' '05-06-2023'\n",
      " '06-06-2023' '07-06-2023' '08-06-2023' '09-06-2023' '10-06-2023'\n",
      " '11-06-2023' '12-06-2023' '13-06-2023' '14-06-2023' '15-06-2023'\n",
      " '16-06-2023' '17-06-2023' '18-06-2023' '19-06-2023' '20-06-2023'\n",
      " '21-06-2023' '22-06-2023' '23-06-2023' '24-06-2023' '25-06-2023'\n",
      " '26-06-2023' '27-06-2023' '28-06-2023' '29-06-2023' '30-06-2023'\n",
      " '01-07-2023' '02-07-2023' '03-07-2023' '04-07-2023' '05-07-2023'\n",
      " '06-07-2023' '07-07-2023' '08-07-2023' '09-07-2023' '10-07-2023'\n",
      " '11-07-2023' '12-07-2023' '13-07-2023' '14-07-2023' '15-07-2023'\n",
      " '16-07-2023' '17-07-2023' '18-07-2023' '19-07-2023' '20-07-2023'\n",
      " '21-07-2023' '22-07-2023' '23-07-2023' '24-07-2023' '25-07-2023'\n",
      " '27-07-2023' '28-07-2023' '29-07-2023' '30-07-2023' '31-07-2023'\n",
      " '01-08-2023' '02-08-2023' '03-08-2023' '04-08-2023' '05-08-2023'\n",
      " '06-08-2023' '08-08-2023' '09-08-2023' '10-08-2023' '11-08-2023'\n",
      " '12-08-2023' '13-08-2023' '14-08-2023' '15-08-2023' '16-08-2023'\n",
      " '17-08-2023' '18-08-2023' '19-08-2023' '20-08-2023' '21-08-2023'\n",
      " '22-08-2023' '23-08-2023' '24-08-2023' '26-08-2023' '27-08-2023'\n",
      " '28-08-2023' '29-08-2023' '30-08-2023' '31-08-2023' '01-09-2023'\n",
      " '02-09-2023' '03-09-2023' '04-09-2023' '05-09-2023' '06-09-2023'\n",
      " '07-09-2023' '08-09-2023' '09-09-2023' '10-09-2023' '11-09-2023'\n",
      " '12-09-2023' '13-09-2023' '14-09-2023' '15-09-2023' '16-09-2023'\n",
      " '17-09-2023' '18-09-2023' '19-09-2023' '20-09-2023' '21-09-2023'\n",
      " '22-09-2023' '23-09-2023' '24-09-2023' '25-09-2023' '26-09-2023'\n",
      " '27-09-2023' '28-09-2023' '29-09-2023' '30-09-2023' '01-10-2023'\n",
      " '02-10-2023' '03-10-2023' '04-10-2023' '05-10-2023' '06-10-2023'\n",
      " '07-10-2023' '08-10-2023' '09-10-2023' '10-10-2023' '11-10-2023'\n",
      " '12-10-2023' '13-10-2023' '14-10-2023' '15-10-2023' '16-10-2023'\n",
      " '17-10-2023' '18-10-2023' '19-10-2023' '20-10-2023' '21-10-2023'\n",
      " '22-10-2023' '23-10-2023' '24-10-2023' '25-10-2023' '26-10-2023'\n",
      " '27-10-2023' '28-10-2023' '29-10-2023' '30-10-2023' '31-10-2023'\n",
      " '01-11-2023' '02-11-2023' '03-11-2023' '04-11-2023' '05-11-2023'\n",
      " '06-11-2023' '07-11-2023' '08-11-2023' '09-11-2023' '10-11-2023'\n",
      " '11-11-2023' '12-11-2023' '13-11-2023' '14-11-2023' '15-11-2023'\n",
      " '16-11-2023' '17-11-2023' '18-11-2023' '19-11-2023' '20-11-2023'\n",
      " '21-11-2023' '22-11-2023' '23-11-2023' '24-11-2023' '25-11-2023'\n",
      " '26-11-2023' '27-11-2023' '28-11-2023' '29-11-2023' '30-11-2023'\n",
      " '01-12-2023' '02-12-2023' '03-12-2023' '04-12-2023' '05-12-2023'\n",
      " '06-12-2023' '07-12-2023' '08-12-2023' '09-12-2023' '10-12-2023'\n",
      " '11-12-2023' '12-12-2023' '13-12-2023' '14-12-2023' '15-12-2023'\n",
      " '16-12-2023' '17-12-2023' '18-12-2023' '19-12-2023' '20-12-2023'\n",
      " '21-12-2023' '22-12-2023' '23-12-2023' '24-12-2023' '25-12-2023'\n",
      " '26-12-2023' '27-12-2023' '28-12-2023' '29-12-2023' '30-12-2023'\n",
      " '31-12-2023']\n",
      "Number of unique values: 726\n",
      "--------------------------------------------------\n",
      "Column: satellite\n",
      "Unique values: ['Terra' 'Aqua']\n",
      "Number of unique values: 2\n",
      "--------------------------------------------------\n",
      "Column: instrument\n",
      "Unique values: ['MODIS']\n",
      "Number of unique values: 1\n",
      "--------------------------------------------------\n",
      "Column: daynight\n",
      "Unique values: ['D' 'N']\n",
      "Number of unique values: 2\n",
      "--------------------------------------------------\n"
     ]
    }
   ],
   "source": [
    "# Check unique and n unique for all categorical features\n",
    "for col in df.columns:\n",
    "  if df[col].dtype == 'object':\n",
    "    print(f\"Column: {col}\")\n",
    "    print(f\"Unique values: {df[col].unique()}\")\n",
    "    print(f\"Number of unique values: {df[col].nunique()}\")\n",
    "    print(\"-\" * 50)"
   ]
  },
  {
   "cell_type": "markdown",
   "id": "51fe1c32-e41c-4bf0-a8a5-6a0341d3f243",
   "metadata": {},
   "source": [
    "## Step 8: Visualizing Target Distribution\n",
    "Plotting the distribution of fire types to visualize class frequency."
   ]
  },
  {
   "cell_type": "code",
   "execution_count": 20,
   "id": "6fc5f704-b449-4d46-a266-0e1b719edc9e",
   "metadata": {},
   "outputs": [
    {
     "data": {
      "image/png": "[encoded data removed]",
      "text/plain": [
       "<Figure size 800x600 with 1 Axes>"
      ]
     },
     "metadata": {},
     "output_type": "display_data"
    }
   ],
   "source": [
    "# Count plot for 'type'\n",
    "plt.figure(figsize=(8, 6))\n",
    "sns.countplot(x='type', data=df)\n",
    "plt.title('Distribution of Fire Types')\n",
    "plt.xlabel('Fire Type')\n",
    "plt.ylabel('Count')\n",
    "plt.show()"
   ]
  },
  {
   "cell_type": "markdown",
   "id": "e5941e62-1ef9-4822-bed2-444d509d05ea",
   "metadata": {},
   "source": [
    "1.The count plot shows the distribution of different fire types in the dataset.\n",
    "\n",
    "2.It is evident that 'MODIS' is the most frequent fire type, followed by 'VIIRS'.\n",
    "\n",
    "3.The 'type' variable appears to be unbalanced, with 'MODIS' having significantly more observations than 'VIIRS'. This imbalance might need to be considered during model training."
   ]
  },
  {
   "cell_type": "markdown",
   "id": "9e31dab8-cca2-4707-b84c-15d4d0c6bbf6",
   "metadata": {},
   "source": [
    "## Step 9: Distribution of Confidence\n",
    "Visualizing how the confidence feature is distributed. This helps understand how confident the fire detection system is in its observations."
   ]
  },
  {
   "cell_type": "code",
   "execution_count": 21,
   "id": "d1225e6f-e6d5-4f9e-8228-c1297a3fd254",
   "metadata": {},
   "outputs": [
    {
     "data": {
      "image/png": "[encoded data removed]",
      "text/plain": [
       "<Figure size 800x600 with 1 Axes>"
      ]
     },
     "metadata": {},
     "output_type": "display_data"
    }
   ],
   "source": [
    "# Histogram of 'confidence'\n",
    "plt.figure(figsize=(8, 6))\n",
    "sns.histplot(df['confidence'], bins=20, kde=True)\n",
    "plt.title('Distribution of Confidence')\n",
    "plt.xlabel('Confidence')\n",
    "plt.ylabel('Frequency')\n",
    "plt.show()"
   ]
  },
  {
   "cell_type": "code",
   "execution_count": null,
   "id": "85dd7a7c-0c42-4e7b-ae54-cfb7c0fd91da",
   "metadata": {},
   "outputs": [],
   "source": []
  },
  {
   "cell_type": "markdown",
   "id": "97e574ba-6bb2-4cdc-92a4-5567a905e0c7",
   "metadata": {},
   "source": [
    "The histogram illustrates the distribution of the 'confidence' feature.\n",
    "\n",
    "- The distribution appears *bimodal*, with peaks around low and high confidence.\n",
    "- There are *fewer observations* in the mid-range of confidence.\n",
    "- This suggests the fire detection system tends to assign *either low or high confidence*, rarely medium values."
   ]
  },
  {
   "cell_type": "code",
   "execution_count": null,
   "id": "3d88f0ea-32d1-45e0-999f-57dbc081e3f3",
   "metadata": {},
   "outputs": [],
   "source": []
  }
 ],
 "metadata": {
  "kernelspec": {
   "display_name": "Python 3 (ipykernel)",
   "language": "python",
   "name": "python3"
  },
  "language_info": {
   "codemirror_mode": {
    "name": "ipython",
    "version": 3
   },
   "file_extension": ".py",
   "mimetype": "text/x-python",
   "name": "python",
   "nbconvert_exporter": "python",
   "pygments_lexer": "ipython3",
   "version": "3.13.5"
  }
 },
 "nbformat": 4,
 "nbformat_minor": 5
}
